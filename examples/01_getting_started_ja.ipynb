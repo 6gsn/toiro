{
  "nbformat": 4,
  "nbformat_minor": 0,
  "metadata": {
    "colab": {
      "name": "01_getting_started_ja.ipynb",
      "provenance": [],
      "toc_visible": true,
      "authorship_tag": "ABX9TyM4NM8EJSRNBIpTzRuc6xPV",
      "include_colab_link": true
    },
    "kernelspec": {
      "name": "python3",
      "display_name": "Python 3"
    }
  },
  "cells": [
    {
      "cell_type": "markdown",
      "metadata": {
        "id": "view-in-github",
        "colab_type": "text"
      },
      "source": [
        "<a href=\"https://colab.research.google.com/github/taishi-i/toiro/blob/develop/examples/01_getting_started_ja.ipynb\" target=\"_parent\"><img src=\"https://colab.research.google.com/assets/colab-badge.svg\" alt=\"Open In Colab\"/></a>"
      ]
    },
    {
      "cell_type": "markdown",
      "metadata": {
        "id": "kPjVK9yXjBKG",
        "colab_type": "text"
      },
      "source": [
        "# <strong>1. はじめに</strong>\n",
        "---\n",
        "\n",
        "[Toiro](https://github.com/taishi-i/toiro) は、形態素解析器を比較する Python ライブラリです。\n",
        "\n",
        "各解析器の比較を数行のコードで行えます。\n",
        "*   処理速度の比較\n",
        "*   単語分割の比較\n",
        "*   後段タスク（テキスト分類）での精度比較\n",
        "\n",
        "Google Colab では、下記のインストールで、7種類の解析器を比較することができます。\n",
        "```\n",
        "pip install toiro[all_tokenizers]\n",
        "```\n",
        "\n"
      ]
    },
    {
      "cell_type": "code",
      "metadata": {
        "id": "9N_4UxRNi0Fd",
        "colab_type": "code",
        "colab": {
          "base_uri": "https://localhost:8080/",
          "height": 0
        },
        "outputId": "4aa670b1-856a-401a-9319-74ba04a56e58"
      },
      "source": [
        "pip install toiro[all_tokenizers]"
      ],
      "execution_count": 1,
      "outputs": [
        {
          "output_type": "stream",
          "text": [
            "Collecting toiro[all_tokenizers]\n",
            "\u001b[?25l  Downloading https://files.pythonhosted.org/packages/98/5c/b5b687458f18976fa65446972a93573b3929a689214db74d54e02fa95552/toiro-0.0.3-py3-none-any.whl (625kB)\n",
            "\u001b[K     |████████████████████████████████| 634kB 2.6MB/s \n",
            "\u001b[?25hRequirement already satisfied: requests in /usr/local/lib/python3.6/dist-packages (from toiro[all_tokenizers]) (2.23.0)\n",
            "Requirement already satisfied: sklearn in /usr/local/lib/python3.6/dist-packages (from toiro[all_tokenizers]) (0.0)\n",
            "Collecting janome\n",
            "\u001b[?25l  Downloading https://files.pythonhosted.org/packages/79/f0/bd7f90806132d7d9d642d418bdc3e870cfdff5947254ea3cab27480983a7/Janome-0.3.10-py2.py3-none-any.whl (21.5MB)\n",
            "\u001b[K     |████████████████████████████████| 21.5MB 1.4MB/s \n",
            "\u001b[?25hRequirement already satisfied: tqdm in /usr/local/lib/python3.6/dist-packages (from toiro[all_tokenizers]) (4.41.1)\n",
            "Requirement already satisfied: pandas in /usr/local/lib/python3.6/dist-packages (from toiro[all_tokenizers]) (1.0.5)\n",
            "Collecting py-cpuinfo\n",
            "\u001b[?25l  Downloading https://files.pythonhosted.org/packages/f6/f5/8e6e85ce2e9f6e05040cf0d4e26f43a4718bcc4bce988b433276d4b1a5c1/py-cpuinfo-7.0.0.tar.gz (95kB)\n",
            "\u001b[K     |████████████████████████████████| 102kB 7.7MB/s \n",
            "\u001b[?25hCollecting mecab-python3<=0.996.5; extra == \"all_tokenizers\"\n",
            "\u001b[?25l  Downloading https://files.pythonhosted.org/packages/18/49/b55a839a77189042960bf96490640c44816073f917d489acbc5d79fa5cc3/mecab_python3-0.996.5-cp36-cp36m-manylinux2010_x86_64.whl (17.1MB)\n",
            "\u001b[K     |████████████████████████████████| 17.1MB 243kB/s \n",
            "\u001b[?25hCollecting nagisa; extra == \"all_tokenizers\"\n",
            "\u001b[?25l  Downloading https://files.pythonhosted.org/packages/4f/c2/f520a4e4ae9c0abf70d5f94149df49f06bcf78fb3a9dd57f57806868129f/nagisa-0.2.7-cp36-cp36m-manylinux1_x86_64.whl (21.5MB)\n",
            "\u001b[K     |████████████████████████████████| 21.5MB 1.3MB/s \n",
            "\u001b[?25hCollecting kytea; extra == \"all_tokenizers\"\n",
            "\u001b[?25l  Downloading https://files.pythonhosted.org/packages/e6/1e/812461726b3b7c161a1177c9e683db83ed82d2654a26267a65af99716c66/kytea-0.1.5-cp36-cp36m-manylinux2010_x86_64.whl (5.2MB)\n",
            "\u001b[K     |████████████████████████████████| 5.2MB 48.9MB/s \n",
            "\u001b[?25hCollecting sentencepiece; extra == \"all_tokenizers\"\n",
            "\u001b[?25l  Downloading https://files.pythonhosted.org/packages/d4/a4/d0a884c4300004a78cca907a6ff9a5e9fe4f090f5d95ab341c53d28cbc58/sentencepiece-0.1.91-cp36-cp36m-manylinux1_x86_64.whl (1.1MB)\n",
            "\u001b[K     |████████████████████████████████| 1.1MB 49.5MB/s \n",
            "\u001b[?25hCollecting pyknp; extra == \"all_tokenizers\"\n",
            "\u001b[?25l  Downloading https://files.pythonhosted.org/packages/5f/07/20b7aa4f8a4894aaa51bd43ed5dbb29da9559c266abe2cd60eb4f4332fee/pyknp-0.4.4.zip (42kB)\n",
            "\u001b[K     |████████████████████████████████| 51kB 8.3MB/s \n",
            "\u001b[?25hCollecting sudachipy; extra == \"all_tokenizers\"\n",
            "\u001b[?25l  Downloading https://files.pythonhosted.org/packages/71/18/8531c4a1c904cb24d37a09e7dff3273857ee65e0d0adb62d09c6f5492f5d/SudachiPy-0.4.9.tar.gz (67kB)\n",
            "\u001b[K     |████████████████████████████████| 71kB 9.3MB/s \n",
            "\u001b[?25hCollecting ginza; extra == \"all_tokenizers\"\n",
            "  Downloading https://files.pythonhosted.org/packages/99/6e/2d41f14ac730c7cb34421829677f4a1d85e06b459d4542dd618d57280c8c/ginza-4.0.0.tar.gz\n",
            "Collecting spacy>=2.3.0; extra == \"all_tokenizers\"\n",
            "\u001b[?25l  Downloading https://files.pythonhosted.org/packages/10/b5/c7a92c7ce5d4b353b70b4b5b4385687206c8b230ddfe08746ab0fd310a3a/spacy-2.3.2-cp36-cp36m-manylinux1_x86_64.whl (9.9MB)\n",
            "\u001b[K     |████████████████████████████████| 10.0MB 47.0MB/s \n",
            "\u001b[?25hCollecting sudachidict-core; extra == \"all_tokenizers\"\n",
            "  Downloading https://files.pythonhosted.org/packages/c4/8f/38c5bea51bf1c825c8774810d1bdd84f3c0b8e3526f00db954ba940e6191/SudachiDict-core-20200722.tar.gz\n",
            "Requirement already satisfied: certifi>=2017.4.17 in /usr/local/lib/python3.6/dist-packages (from requests->toiro[all_tokenizers]) (2020.6.20)\n",
            "Requirement already satisfied: chardet<4,>=3.0.2 in /usr/local/lib/python3.6/dist-packages (from requests->toiro[all_tokenizers]) (3.0.4)\n",
            "Requirement already satisfied: idna<3,>=2.5 in /usr/local/lib/python3.6/dist-packages (from requests->toiro[all_tokenizers]) (2.10)\n",
            "Requirement already satisfied: urllib3!=1.25.0,!=1.25.1,<1.26,>=1.21.1 in /usr/local/lib/python3.6/dist-packages (from requests->toiro[all_tokenizers]) (1.24.3)\n",
            "Requirement already satisfied: scikit-learn in /usr/local/lib/python3.6/dist-packages (from sklearn->toiro[all_tokenizers]) (0.22.2.post1)\n",
            "Requirement already satisfied: python-dateutil>=2.6.1 in /usr/local/lib/python3.6/dist-packages (from pandas->toiro[all_tokenizers]) (2.8.1)\n",
            "Requirement already satisfied: numpy>=1.13.3 in /usr/local/lib/python3.6/dist-packages (from pandas->toiro[all_tokenizers]) (1.18.5)\n",
            "Requirement already satisfied: pytz>=2017.2 in /usr/local/lib/python3.6/dist-packages (from pandas->toiro[all_tokenizers]) (2018.9)\n",
            "Collecting DyNet\n",
            "\u001b[?25l  Downloading https://files.pythonhosted.org/packages/88/f0/01a561a301a8ea9aea1c28f82e108c38cd103964c7a46286ab01757a4092/dyNET-2.1-cp36-cp36m-manylinux1_x86_64.whl (28.1MB)\n",
            "\u001b[K     |████████████████████████████████| 28.1MB 152kB/s \n",
            "\u001b[?25hRequirement already satisfied: six in /usr/local/lib/python3.6/dist-packages (from nagisa; extra == \"all_tokenizers\"->toiro[all_tokenizers]) (1.15.0)\n",
            "Collecting sortedcontainers~=2.1.0\n",
            "  Downloading https://files.pythonhosted.org/packages/13/f3/cf85f7c3a2dbd1a515d51e1f1676d971abe41bba6f4ab5443240d9a78e5b/sortedcontainers-2.1.0-py2.py3-none-any.whl\n",
            "Collecting dartsclone~=0.9.0\n",
            "\u001b[?25l  Downloading https://files.pythonhosted.org/packages/6d/34/987a076369ed086ee953e2f0b9ab5ff3e1a682ba4f781678ac5648144896/dartsclone-0.9.0-cp36-cp36m-manylinux1_x86_64.whl (474kB)\n",
            "\u001b[K     |████████████████████████████████| 481kB 47.9MB/s \n",
            "\u001b[?25hCollecting ja_ginza<4.1.0,>=4.0.0\n",
            "\u001b[?25l  Downloading https://files.pythonhosted.org/packages/89/7d/c8778b5472082da8488b2686cbab3e34ab371fa038c1a712a8d55d8dba2b/ja_ginza-4.0.0.tar.gz (51.5MB)\n",
            "\u001b[K     |████████████████████████████████| 51.5MB 76kB/s \n",
            "\u001b[?25hRequirement already satisfied: cymem<2.1.0,>=2.0.2 in /usr/local/lib/python3.6/dist-packages (from spacy>=2.3.0; extra == \"all_tokenizers\"->toiro[all_tokenizers]) (2.0.3)\n",
            "Requirement already satisfied: murmurhash<1.1.0,>=0.28.0 in /usr/local/lib/python3.6/dist-packages (from spacy>=2.3.0; extra == \"all_tokenizers\"->toiro[all_tokenizers]) (1.0.2)\n",
            "Requirement already satisfied: setuptools in /usr/local/lib/python3.6/dist-packages (from spacy>=2.3.0; extra == \"all_tokenizers\"->toiro[all_tokenizers]) (49.2.0)\n",
            "Requirement already satisfied: preshed<3.1.0,>=3.0.2 in /usr/local/lib/python3.6/dist-packages (from spacy>=2.3.0; extra == \"all_tokenizers\"->toiro[all_tokenizers]) (3.0.2)\n",
            "Requirement already satisfied: wasabi<1.1.0,>=0.4.0 in /usr/local/lib/python3.6/dist-packages (from spacy>=2.3.0; extra == \"all_tokenizers\"->toiro[all_tokenizers]) (0.7.1)\n",
            "Requirement already satisfied: blis<0.5.0,>=0.4.0 in /usr/local/lib/python3.6/dist-packages (from spacy>=2.3.0; extra == \"all_tokenizers\"->toiro[all_tokenizers]) (0.4.1)\n",
            "Collecting thinc==7.4.1\n",
            "\u001b[?25l  Downloading https://files.pythonhosted.org/packages/10/ae/ef3ae5e93639c0ef8e3eb32e3c18341e511b3c515fcfc603f4b808087651/thinc-7.4.1-cp36-cp36m-manylinux1_x86_64.whl (2.1MB)\n",
            "\u001b[K     |████████████████████████████████| 2.1MB 17.3MB/s \n",
            "\u001b[?25hRequirement already satisfied: catalogue<1.1.0,>=0.0.7 in /usr/local/lib/python3.6/dist-packages (from spacy>=2.3.0; extra == \"all_tokenizers\"->toiro[all_tokenizers]) (1.0.0)\n",
            "Requirement already satisfied: srsly<1.1.0,>=1.0.2 in /usr/local/lib/python3.6/dist-packages (from spacy>=2.3.0; extra == \"all_tokenizers\"->toiro[all_tokenizers]) (1.0.2)\n",
            "Requirement already satisfied: plac<1.2.0,>=0.9.6 in /usr/local/lib/python3.6/dist-packages (from spacy>=2.3.0; extra == \"all_tokenizers\"->toiro[all_tokenizers]) (1.1.3)\n",
            "Requirement already satisfied: joblib>=0.11 in /usr/local/lib/python3.6/dist-packages (from scikit-learn->sklearn->toiro[all_tokenizers]) (0.16.0)\n",
            "Requirement already satisfied: scipy>=0.17.0 in /usr/local/lib/python3.6/dist-packages (from scikit-learn->sklearn->toiro[all_tokenizers]) (1.4.1)\n",
            "Requirement already satisfied: cython in /usr/local/lib/python3.6/dist-packages (from DyNet->nagisa; extra == \"all_tokenizers\"->toiro[all_tokenizers]) (0.29.21)\n",
            "Requirement already satisfied: importlib-metadata>=0.20; python_version < \"3.8\" in /usr/local/lib/python3.6/dist-packages (from catalogue<1.1.0,>=0.0.7->spacy>=2.3.0; extra == \"all_tokenizers\"->toiro[all_tokenizers]) (1.7.0)\n",
            "Requirement already satisfied: zipp>=0.5 in /usr/local/lib/python3.6/dist-packages (from importlib-metadata>=0.20; python_version < \"3.8\"->catalogue<1.1.0,>=0.0.7->spacy>=2.3.0; extra == \"all_tokenizers\"->toiro[all_tokenizers]) (3.1.0)\n",
            "Building wheels for collected packages: py-cpuinfo, pyknp, sudachipy, ginza, sudachidict-core, ja-ginza\n",
            "  Building wheel for py-cpuinfo (setup.py) ... \u001b[?25l\u001b[?25hdone\n",
            "  Created wheel for py-cpuinfo: filename=py_cpuinfo-7.0.0-cp36-none-any.whl size=20069 sha256=c021ca059c5f6cd96b0d37b003df8b747e810a6f18419b68a8def8e681c14e1e\n",
            "  Stored in directory: /root/.cache/pip/wheels/f1/93/7b/127daf0c3a5a49feb2fecd468d508067c733fba5192f726ad1\n",
            "  Building wheel for pyknp (setup.py) ... \u001b[?25l\u001b[?25hdone\n",
            "  Created wheel for pyknp: filename=pyknp-0.4.4-cp36-none-any.whl size=39796 sha256=e0b310673a0b30cbf011044ad1270d43631a3d949fd0f58af62fe80111db33ba\n",
            "  Stored in directory: /root/.cache/pip/wheels/b6/70/e8/1c64c8357862f5fc0255436e77106c392617bb581a459347cd\n",
            "  Building wheel for sudachipy (setup.py) ... \u001b[?25l\u001b[?25hdone\n",
            "  Created wheel for sudachipy: filename=SudachiPy-0.4.9-cp36-cp36m-linux_x86_64.whl size=870375 sha256=b399658f164ab376d7c02b5f9000a77f6e74e04cefc7c7ca218c31fc3f976208\n",
            "  Stored in directory: /root/.cache/pip/wheels/79/85/b4/bb2fbbf043bc8128a6cbb769604c410dc5ece89c88b7e57de0\n",
            "  Building wheel for ginza (setup.py) ... \u001b[?25l\u001b[?25hdone\n",
            "  Created wheel for ginza: filename=ginza-4.0.0-cp36-none-any.whl size=15493 sha256=c6ce57b21ebf405b0dfe1eab5ff21f7745742e311234464c38563a4d4dffb206\n",
            "  Stored in directory: /root/.cache/pip/wheels/d1/72/7b/2e2396430fee86a30a88203e5fbe13ffe6417dfa7544bf1d58\n",
            "  Building wheel for sudachidict-core (setup.py) ... \u001b[?25l\u001b[?25hdone\n",
            "  Created wheel for sudachidict-core: filename=SudachiDict_core-20200722-cp36-none-any.whl size=71120192 sha256=81da3900e87b069b811abd850b03ecbc3131d380158235a3dfd8374f1f90a1f0\n",
            "  Stored in directory: /root/.cache/pip/wheels/aa/79/cb/ee2ca7db8ba91560158dd4b1362ca1bcc1622541d476de5145\n",
            "  Building wheel for ja-ginza (setup.py) ... \u001b[?25l\u001b[?25hdone\n",
            "  Created wheel for ja-ginza: filename=ja_ginza-4.0.0-cp36-none-any.whl size=51530814 sha256=10a2fb13cc21bf3070b80be3d6391077fb18444af74c8d687644fd952dc564ed\n",
            "  Stored in directory: /root/.cache/pip/wheels/28/5a/c0/95ac590b39eff99c77d729f284341d15a6903e4011d70ff421\n",
            "Successfully built py-cpuinfo pyknp sudachipy ginza sudachidict-core ja-ginza\n",
            "Installing collected packages: janome, py-cpuinfo, mecab-python3, DyNet, nagisa, kytea, sentencepiece, pyknp, sortedcontainers, dartsclone, sudachipy, thinc, spacy, ja-ginza, sudachidict-core, ginza, toiro\n",
            "  Found existing installation: sortedcontainers 2.2.2\n",
            "    Uninstalling sortedcontainers-2.2.2:\n",
            "      Successfully uninstalled sortedcontainers-2.2.2\n",
            "  Found existing installation: thinc 7.4.0\n",
            "    Uninstalling thinc-7.4.0:\n",
            "      Successfully uninstalled thinc-7.4.0\n",
            "  Found existing installation: spacy 2.2.4\n",
            "    Uninstalling spacy-2.2.4:\n",
            "      Successfully uninstalled spacy-2.2.4\n",
            "Successfully installed DyNet-2.1 dartsclone-0.9.0 ginza-4.0.0 ja-ginza-4.0.0 janome-0.3.10 kytea-0.1.5 mecab-python3-0.996.5 nagisa-0.2.7 py-cpuinfo-7.0.0 pyknp-0.4.4 sentencepiece-0.1.91 sortedcontainers-2.1.0 spacy-2.3.2 sudachidict-core-20200722 sudachipy-0.4.9 thinc-7.4.1 toiro-0.0.3\n"
          ],
          "name": "stdout"
        }
      ]
    },
    {
      "cell_type": "code",
      "metadata": {
        "id": "FY9HK3M3m43L",
        "colab_type": "code",
        "colab": {}
      },
      "source": [
        "# 各ライブラリのインポート\n",
        "import pprint\n",
        "import warnings\n",
        "\n",
        "import matplotlib.pyplot as plt\n",
        "\n",
        "from toiro import tokenizers\n",
        "from toiro import datadownloader\n",
        "from toiro import classifiers\n",
        "\n",
        "warnings.simplefilter('ignore')"
      ],
      "execution_count": 2,
      "outputs": []
    },
    {
      "cell_type": "markdown",
      "metadata": {
        "id": "wvo4N1-yAwaP",
        "colab_type": "text"
      },
      "source": [
        "# <strong>2. 解析器の一覧を表示する</strong>\n",
        "\n",
        "---\n",
        "\n",
        "Toiroでは、次の解析器（単語分割器、形態素解析器、サブワードトークナイザー）を比較することができます。\n",
        "\n",
        "*   mecab-python3\n",
        "*   janome\n",
        "*   nagisa\n",
        "*   spacy\n",
        "*   sudachipy\n",
        "*   ginza\n",
        "*   sentencepiece\n",
        "*   KyTea（本体のインストールが必要）\n",
        "*   Juman++（本体のインストールが必要）\n",
        "\n",
        "\n",
        "また、Docker Hub からコンテナを利用することで、環境構築なしに9種類の解析器を比較することができます。\n",
        "\n",
        "```\n",
        "$ docker run --rm -it taishii/toiro /bin/bash\n",
        "```\n",
        "\n"
      ]
    },
    {
      "cell_type": "code",
      "metadata": {
        "id": "J4IAlmEdAv3l",
        "colab_type": "code",
        "colab": {
          "base_uri": "https://localhost:8080/",
          "height": 0
        },
        "outputId": "07d18ef5-3c70-4095-953a-661f5eb72a44"
      },
      "source": [
        "# 実行環境で利用可能な解析器の表示\n",
        "available_tokenizers = tokenizers.available_tokenizers()\n",
        "pprint.pprint(available_tokenizers)"
      ],
      "execution_count": 3,
      "outputs": [
        {
          "output_type": "stream",
          "text": [
            "{'ginza': {'is_available': True, 'version': '2.3.2'},\n",
            " 'janome': {'is_available': True, 'version': '0.3.10'},\n",
            " 'jumanpp': {'is_available': False, 'version': False},\n",
            " 'kytea': {'is_available': False, 'version': False},\n",
            " 'mecab-python3': {'is_available': True, 'version': '0.996'},\n",
            " 'nagisa': {'is_available': True, 'version': '0.2.7'},\n",
            " 'sentencepiece': {'is_available': True, 'version': '0.1.91'},\n",
            " 'spacy': {'is_available': True, 'version': '2.3.2'},\n",
            " 'sudachipy': {'is_available': True, 'version': '0.4.9'}}\n"
          ],
          "name": "stdout"
        }
      ]
    },
    {
      "cell_type": "markdown",
      "metadata": {
        "id": "Zw-mP7nKDICm",
        "colab_type": "text"
      },
      "source": [
        "# <strong>3. コーパスのダウンロードする</strong>\n",
        "\n",
        "---\n",
        "Toiroでは、日本語コーパスのダウンローダーと前処理機能を標準で搭載しています。\n",
        "\n",
        "現時点では、3種類の日本語コーパスが利用することができます。\n",
        "*   Livedoor news corpus\n",
        "*   Yahoo movie reviews\n",
        "*   Amazon_reviews\n",
        "\n",
        "コーパスのダウンロード後は、内部で前処理を行い、pandas.DataFrame として扱うことができます。"
      ]
    },
    {
      "cell_type": "code",
      "metadata": {
        "id": "zKnn4uk14Zhu",
        "colab_type": "code",
        "colab": {
          "base_uri": "https://localhost:8080/",
          "height": 0
        },
        "outputId": "905aed41-9a85-462a-e0fe-f9c995c758d0"
      },
      "source": [
        "# ダウンロード可能なコーパスの一覧を表示する\n",
        "corpora = datadownloader.available_corpus()\n",
        "print(corpora)"
      ],
      "execution_count": 4,
      "outputs": [
        {
          "output_type": "stream",
          "text": [
            "['livedoor_news_corpus', 'yahoo_movie_reviews', 'amazon_reviews']\n"
          ],
          "name": "stdout"
        }
      ]
    },
    {
      "cell_type": "code",
      "metadata": {
        "id": "TmKy2e7ppf_H",
        "colab_type": "code",
        "colab": {
          "base_uri": "https://localhost:8080/",
          "height": 0
        },
        "outputId": "d79bc7d3-7b97-46c6-8954-e5a11bd06a98"
      },
      "source": [
        "# Livedoor News Corpus をダウンロードし、pandas.DataFrame として読み込む。\n",
        "corpus = corpora[0]\n",
        "datadownloader.download_corpus(corpus)\n",
        "train_df, dev_df, test_df = datadownloader.load_corpus(corpus)\n",
        "texts = train_df[1]\n",
        "train_df.head()"
      ],
      "execution_count": 5,
      "outputs": [
        {
          "output_type": "stream",
          "text": [
            "Downloading ldcc-20140209.tar.gz from https://www.rondhuit.com/download/ldcc-20140209.tar.gz: 31.6MB [00:01, 26.6MB/s]\n"
          ],
          "name": "stderr"
        },
        {
          "output_type": "execute_result",
          "data": {
            "text/html": [
              "<div>\n",
              "<style scoped>\n",
              "    .dataframe tbody tr th:only-of-type {\n",
              "        vertical-align: middle;\n",
              "    }\n",
              "\n",
              "    .dataframe tbody tr th {\n",
              "        vertical-align: top;\n",
              "    }\n",
              "\n",
              "    .dataframe thead th {\n",
              "        text-align: right;\n",
              "    }\n",
              "</style>\n",
              "<table border=\"1\" class=\"dataframe\">\n",
              "  <thead>\n",
              "    <tr style=\"text-align: right;\">\n",
              "      <th></th>\n",
              "      <th>0</th>\n",
              "      <th>1</th>\n",
              "    </tr>\n",
              "  </thead>\n",
              "  <tbody>\n",
              "    <tr>\n",
              "      <th>0</th>\n",
              "      <td>livedoor-homme</td>\n",
              "      <td>上達はスイングチェックから！ 1秒間 最大1000コマ撮影でスイングを磨け</td>\n",
              "    </tr>\n",
              "    <tr>\n",
              "      <th>1</th>\n",
              "      <td>it-life-hack</td>\n",
              "      <td>Ultrabookユーザー必見！爆速無線LANルーターのレビューアー5名を募集</td>\n",
              "    </tr>\n",
              "    <tr>\n",
              "      <th>2</th>\n",
              "      <td>kaden-channel</td>\n",
              "      <td>赤っ恥！　釈由美子に続き及川光博もiPhoneがよくわかっていなかった【話題】</td>\n",
              "    </tr>\n",
              "    <tr>\n",
              "      <th>3</th>\n",
              "      <td>kaden-channel</td>\n",
              "      <td>楽しいことにもいつかは終わりが・・・Google「Picnik」終了のお知らせが気になる【話題】</td>\n",
              "    </tr>\n",
              "    <tr>\n",
              "      <th>4</th>\n",
              "      <td>livedoor-homme</td>\n",
              "      <td>【特集/JOURNEY】 刺激的で優しいアラブの国へ　（4/8）</td>\n",
              "    </tr>\n",
              "  </tbody>\n",
              "</table>\n",
              "</div>"
            ],
            "text/plain": [
              "                0                                                 1\n",
              "0  livedoor-homme             上達はスイングチェックから！ 1秒間 最大1000コマ撮影でスイングを磨け\n",
              "1    it-life-hack           Ultrabookユーザー必見！爆速無線LANルーターのレビューアー5名を募集\n",
              "2   kaden-channel           赤っ恥！　釈由美子に続き及川光博もiPhoneがよくわかっていなかった【話題】\n",
              "3   kaden-channel  楽しいことにもいつかは終わりが・・・Google「Picnik」終了のお知らせが気になる【話題】\n",
              "4  livedoor-homme                  【特集/JOURNEY】 刺激的で優しいアラブの国へ　（4/8）"
            ]
          },
          "metadata": {
            "tags": []
          },
          "execution_count": 5
        }
      ]
    },
    {
      "cell_type": "markdown",
      "metadata": {
        "id": "7Qu-0aFx4-hM",
        "colab_type": "text"
      },
      "source": [
        "# <strong>4. 各解析器の処理速度を比較する</strong>\n",
        "\n",
        "---\n",
        "\n",
        "ダウンロードした Livedoor news corpus を利用して、各解析器の処理速度を比較します。\n",
        "\n",
        "実行環境の情報、入力テキストの情報、各解析器の処理速度を、辞書形式で出力します。"
      ]
    },
    {
      "cell_type": "code",
      "metadata": {
        "id": "39VcudSe4-Je",
        "colab_type": "code",
        "colab": {
          "base_uri": "https://localhost:8080/",
          "height": 459
        },
        "outputId": "2b30c0ce-80fd-41cf-b576-9eb87315d38b"
      },
      "source": [
        "# tokenizers.compare では、リストを入力とします。\n",
        "report = tokenizers.compare(texts)\n",
        "pprint.pprint(report)"
      ],
      "execution_count": 6,
      "outputs": [
        {
          "output_type": "stream",
          "text": [
            "100%|██████████| 5900/5900 [00:00<00:00, 41964.95it/s]\n",
            "  0%|          | 0/5900 [00:00<?, ?it/s]"
          ],
          "name": "stderr"
        },
        {
          "output_type": "stream",
          "text": [
            "[1/7] Tokenizer: mecab-python3\n",
            "[2/7] Tokenizer: janome\n"
          ],
          "name": "stdout"
        },
        {
          "output_type": "stream",
          "text": [
            "100%|██████████| 5900/5900 [00:11<00:00, 521.28it/s]\n",
            "  0%|          | 17/5900 [00:00<00:34, 168.45it/s]"
          ],
          "name": "stderr"
        },
        {
          "output_type": "stream",
          "text": [
            "[3/7] Tokenizer: nagisa\n"
          ],
          "name": "stdout"
        },
        {
          "output_type": "stream",
          "text": [
            "100%|██████████| 5900/5900 [00:23<00:00, 252.95it/s]\n",
            "  1%|          | 49/5900 [00:00<00:11, 487.96it/s]"
          ],
          "name": "stderr"
        },
        {
          "output_type": "stream",
          "text": [
            "[4/7] Tokenizer: sudachipy\n"
          ],
          "name": "stdout"
        },
        {
          "output_type": "stream",
          "text": [
            "100%|██████████| 5900/5900 [00:13<00:00, 426.07it/s]\n",
            "  1%|          | 37/5900 [00:00<00:15, 368.82it/s]"
          ],
          "name": "stderr"
        },
        {
          "output_type": "stream",
          "text": [
            "[5/7] Tokenizer: spacy\n"
          ],
          "name": "stdout"
        },
        {
          "output_type": "stream",
          "text": [
            "100%|██████████| 5900/5900 [00:16<00:00, 353.58it/s]\n",
            "  1%|          | 35/5900 [00:00<00:16, 349.11it/s]"
          ],
          "name": "stderr"
        },
        {
          "output_type": "stream",
          "text": [
            "[6/7] Tokenizer: ginza\n"
          ],
          "name": "stdout"
        },
        {
          "output_type": "stream",
          "text": [
            "100%|██████████| 5900/5900 [00:17<00:00, 338.90it/s]\n",
            "100%|██████████| 5900/5900 [00:00<00:00, 56348.35it/s]"
          ],
          "name": "stderr"
        },
        {
          "output_type": "stream",
          "text": [
            "[7/7] Tokenizer: sentencepiece\n",
            "{'data': {'average_length': 37.67338983050848, 'number_of_sentences': 5900},\n",
            " 'execution_environment': {'arch': 'X86_64',\n",
            "                           'brand_raw': 'Intel(R) Xeon(R) CPU @ 2.20GHz',\n",
            "                           'count': 2,\n",
            "                           'python_version': '3.6.9.final.0 (64 bit)'},\n",
            " 'ginza': {'elapsed_time': 17.412731170654297},\n",
            " 'janome': {'elapsed_time': 11.319151639938354},\n",
            " 'mecab-python3': {'elapsed_time': 0.14128446578979492},\n",
            " 'nagisa': {'elapsed_time': 23.325312614440918},\n",
            " 'sentencepiece': {'elapsed_time': 0.10537481307983398},\n",
            " 'spacy': {'elapsed_time': 16.687149047851562},\n",
            " 'sudachipy': {'elapsed_time': 13.848877429962158}}\n"
          ],
          "name": "stdout"
        },
        {
          "output_type": "stream",
          "text": [
            "\n"
          ],
          "name": "stderr"
        }
      ]
    },
    {
      "cell_type": "markdown",
      "metadata": {
        "id": "BibRBXFHa9Gn",
        "colab_type": "text"
      },
      "source": [
        "# <strong>5. 各解析器の単語分割を比較する</strong>\n",
        "\n",
        "---\n",
        "\n",
        "入力テキストの単語分割結果を比較できます。\n",
        "\n",
        "tokenizers.tokenize_*TOKENIZER_NAME* を利用することで、各解析器の単語分割の結果を取得できます。"
      ]
    },
    {
      "cell_type": "code",
      "metadata": {
        "id": "cnzDtWRvbijc",
        "colab_type": "code",
        "colab": {
          "base_uri": "https://localhost:8080/",
          "height": 136
        },
        "outputId": "b20a7289-25a6-4636-b922-a0907d00d447"
      },
      "source": [
        "text = \"都庁所在地は新宿区。\"\n",
        "tokenizers.print_words(text, delimiter=\"|\")"
      ],
      "execution_count": 7,
      "outputs": [
        {
          "output_type": "stream",
          "text": [
            "mecab-python3: 都庁|所在地|は|新宿|区|。\n",
            "       janome: 都庁|所在地|は|新宿|区|。\n",
            "       nagisa: 都庁|所在|地|は|新宿|区|。\n",
            "    sudachipy: 都庁|所在地|は|新宿区|。\n",
            "        spacy: 都庁|所在|地|は|新宿|区|。\n",
            "        ginza: 都庁|所在地|は|新宿区|。\n",
            "sentencepiece: ▁|都|庁|所在地|は|新宿|区|。\n"
          ],
          "name": "stdout"
        }
      ]
    },
    {
      "cell_type": "code",
      "metadata": {
        "id": "9EvlaUiXr3Gw",
        "colab_type": "code",
        "colab": {
          "base_uri": "https://localhost:8080/",
          "height": 34
        },
        "outputId": "35c3bef5-22fc-45b1-e8c3-9005e8980995"
      },
      "source": [
        "# sudachipy の単語分割結果の結果\n",
        "words = tokenizers.tokenize_sudachipy(text)\n",
        "print(words)"
      ],
      "execution_count": 8,
      "outputs": [
        {
          "output_type": "stream",
          "text": [
            "['都庁', '所在地', 'は', '新宿区', '。']\n"
          ],
          "name": "stdout"
        }
      ]
    },
    {
      "cell_type": "code",
      "metadata": {
        "id": "rizI7UTCsJOs",
        "colab_type": "code",
        "colab": {
          "base_uri": "https://localhost:8080/",
          "height": 34
        },
        "outputId": "e34fafca-41f9-4413-e402-ee6df3ae1d2f"
      },
      "source": [
        "# sentencepiece の単語分割結果の結果\n",
        "words = tokenizers.tokenize_sentencepiece(text)\n",
        "print(words)"
      ],
      "execution_count": 9,
      "outputs": [
        {
          "output_type": "stream",
          "text": [
            "['▁', '都', '庁', '所在地', 'は', '新宿', '区', '。']\n"
          ],
          "name": "stdout"
        }
      ]
    },
    {
      "cell_type": "markdown",
      "metadata": {
        "id": "7i1zRHXodPRZ",
        "colab_type": "text"
      },
      "source": [
        "# <strong>6. 各解析器の結果を取得する</strong>\n",
        "\n",
        "---\n",
        "\n",
        "Toiroでは、各解析器の元の解析結果を取得できます。\n",
        "\n",
        "tokenizers.original_*TOKENIZER_NAME* を利用することで、各解析器の元の解析結果を取得できます。"
      ]
    },
    {
      "cell_type": "code",
      "metadata": {
        "id": "WZo3W1eLdb1I",
        "colab_type": "code",
        "colab": {
          "base_uri": "https://localhost:8080/",
          "height": 153
        },
        "outputId": "ac879ef9-783b-4ecb-f811-dc04e55d342b"
      },
      "source": [
        "# mecab-python3 の解析結果\n",
        "tokens = tokenizers.original_mecab(text)\n",
        "print(tokens)"
      ],
      "execution_count": 10,
      "outputs": [
        {
          "output_type": "stream",
          "text": [
            "都庁\t名詞,一般,*,*,*,*,都庁,トチョウ,トチョー\n",
            "所在地\t名詞,一般,*,*,*,*,所在地,ショザイチ,ショザイチ\n",
            "は\t助詞,係助詞,*,*,*,*,は,ハ,ワ\n",
            "新宿\t名詞,固有名詞,地域,一般,*,*,新宿,シンジュク,シンジュク\n",
            "区\t名詞,接尾,地域,*,*,*,区,ク,ク\n",
            "。\t記号,句点,*,*,*,*,。,。,。\n",
            "EOS\n",
            "\n"
          ],
          "name": "stdout"
        }
      ]
    },
    {
      "cell_type": "code",
      "metadata": {
        "id": "cRbC5txxrH_x",
        "colab_type": "code",
        "colab": {
          "base_uri": "https://localhost:8080/",
          "height": 119
        },
        "outputId": "d94dfbee-5aef-4884-e5e9-d732f804cdea"
      },
      "source": [
        "# GiNZA の解析結果\n",
        "token = tokenizers.original_ginza(text)\n",
        "for sent in token.sents:\n",
        "    for token in sent:\n",
        "        print(token.i, token.orth_, token.lemma_, token.pos_, token.tag_, token.dep_, token.head.i)\n",
        "    print('EOS')"
      ],
      "execution_count": 11,
      "outputs": [
        {
          "output_type": "stream",
          "text": [
            "0 都庁 都庁 NOUN 名詞-普通名詞-一般 compound 1\n",
            "1 所在地 所在地 NOUN 名詞-普通名詞-一般 nsubj 3\n",
            "2 は は ADP 助詞-係助詞 case 1\n",
            "3 新宿区 新宿区 PROPN 名詞-固有名詞-地名-一般 ROOT 3\n",
            "4 。 。 PUNCT 補助記号-句点 punct 3\n",
            "EOS\n"
          ],
          "name": "stdout"
        }
      ]
    },
    {
      "cell_type": "markdown",
      "metadata": {
        "id": "fql5s2BNbz81",
        "colab_type": "text"
      },
      "source": [
        "# <strong>7. 後段タスク（テキスト分類）による精度比較</strong>\n",
        "\n",
        "---\n",
        "\n",
        "Toiroでは、SVM と BERT によるテキスト分類機能を搭載しています。\n",
        "\n",
        "ここでは、SVM によるテキスト分類結果を比較することで、単語分割の性能を比較します。\n",
        "\n",
        "BERT を利用する場合は、次のインストールを行ってください。\n",
        "```\n",
        "pip install toiro[all]\n",
        "```"
      ]
    },
    {
      "cell_type": "code",
      "metadata": {
        "id": "QpE2ljY3coZ4",
        "colab_type": "code",
        "colab": {
          "base_uri": "https://localhost:8080/",
          "height": 340
        },
        "outputId": "fd1651db-bba9-44d9-abc1-88c0c91a4277"
      },
      "source": [
        "# Janome を単語分割に利用した SVM モデルの学習  \n",
        "model = classifiers.SVMClassificationModel(tokenizer='janome')                                                                                                                                   \n",
        "model.fit(train_df, dev_df)                                                     \n",
        "                                                                                \n",
        "# 分類精度の評価                                               \n",
        "result = model.eval(test_df)                                                    \n",
        "print(result)"
      ],
      "execution_count": 12,
      "outputs": [
        {
          "output_type": "stream",
          "text": [
            "accuracy_score: 0.8629579375848032\n",
            "macro_f1_score: 0.8502901379913911\n",
            "classification_report:                 precision    recall  f1-score   support\n",
            "\n",
            "dokujo-tsushin       0.80      0.80      0.80        92\n",
            "  it-life-hack       0.88      0.94      0.91        80\n",
            " kaden-channel       0.97      0.92      0.95        85\n",
            "livedoor-homme       0.88      0.56      0.69        41\n",
            "   movie-enter       0.82      0.90      0.86        88\n",
            "        peachy       0.78      0.74      0.76        90\n",
            "          smax       0.96      0.97      0.97       101\n",
            "  sports-watch       0.88      0.90      0.89        82\n",
            "    topic-news       0.80      0.87      0.83        78\n",
            "\n",
            "      accuracy                           0.86       737\n",
            "     macro avg       0.86      0.85      0.85       737\n",
            "  weighted avg       0.86      0.86      0.86       737\n",
            "\n",
            "elapsed_time: 10.702186107635498\n"
          ],
          "name": "stdout"
        }
      ]
    },
    {
      "cell_type": "code",
      "metadata": {
        "id": "e8lKvQlDdFMZ",
        "colab_type": "code",
        "colab": {
          "base_uri": "https://localhost:8080/",
          "height": 414
        },
        "outputId": "4b701fe4-1ea1-4137-b043-ac6431be747f"
      },
      "source": [
        "# matplotlib のマーカを定義する\n",
        "markers = [\".\", \"X\", \"^\", \"<\", \">\", \"p\", \"*\"]\n",
        "\n",
        "# 実行環境で利用できる解析器を取得する\n",
        "avaiable_tokenizers = tokenizers.get_avaiable_tokenizers()\n",
        "num_tokenizers = len(avaiable_tokenizers.items())\n",
        "\n",
        "# 各解析器を利用した SVM モデル学習と評価を行う\n",
        "for i, (k, v) in  enumerate(avaiable_tokenizers.items(), 1):                                                                      \n",
        "    model = classifiers.SVMClassificationModel(tokenizer=k)                       \n",
        "    model.fit(train_df, dev_df)                                                 \n",
        "    result = model.eval(test_df)                                                \n",
        "    elapsed_time = result[\"elapsed_time\"]                                                                              \n",
        "    accuracy_score = result[\"accuracy_score\"]                                                                                                                                \n",
        "    plt.scatter([elapsed_time ], [accuracy_score], label=k, marker=markers[i-1])\n",
        "    print(f\"[{i}/{num_tokenizers}]: {k:<13}, {accuracy_score}, {elapsed_time}\")\n",
        "\n",
        "# 処理速度と分類精度の図を表示する\n",
        "plt.title(f\"{corpus}: Accuracy and elapsed time\")\n",
        "plt.ylabel(\"Accuracy score\")\n",
        "plt.xlabel(\"Elapsed time (s)\")                                                                                                          \n",
        "plt.legend()                                                                                                                       \n",
        "plt.show() "
      ],
      "execution_count": 13,
      "outputs": [
        {
          "output_type": "stream",
          "text": [
            "[1/7]: mecab-python3, 0.8575305291723202, 0.6454024314880371\n",
            "[2/7]: janome       , 0.8629579375848032, 10.711235046386719\n",
            "[3/7]: nagisa       , 0.858887381275441, 22.560673236846924\n",
            "[4/7]: sudachipy    , 0.8616010854816825, 11.029358625411987\n",
            "[5/7]: spacy        , 0.8724559023066486, 13.467071771621704\n",
            "[6/7]: ginza        , 0.8656716417910447, 14.141202211380005\n",
            "[7/7]: sentencepiece, 0.8670284938941656, 0.6916823387145996\n"
          ],
          "name": "stdout"
        },
        {
          "output_type": "display_data",
          "data": {
            "image/png": "[encoded data removed]",
            "text/plain": [
              "<Figure size 432x288 with 1 Axes>"
            ]
          },
          "metadata": {
            "tags": [],
            "needs_background": "light"
          }
        }
      ]
    }
  ]
}