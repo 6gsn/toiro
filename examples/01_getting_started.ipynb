{
 "cells": [
  {
   "cell_type": "code",
   "execution_count": 1,
   "metadata": {},
   "outputs": [],
   "source": [
    "# Ignore warnings\n",
    "import warnings\n",
    "warnings.simplefilter('ignore')"
   ]
  },
  {
   "cell_type": "code",
   "execution_count": 2,
   "metadata": {},
   "outputs": [],
   "source": [
    "from toiro import tokenizers\n",
    "from toiro import datadownloader"
   ]
  },
  {
   "cell_type": "code",
   "execution_count": 3,
   "metadata": {},
   "outputs": [
    {
     "name": "stdout",
     "output_type": "stream",
     "text": [
      "['livedoor_news_corpus', 'yahoo_movie_reviews', 'amazon_reviews']\n"
     ]
    }
   ],
   "source": [
    "# A list of avaliable corpora in toiro\n",
    "corpora = datadownloader.available_corpus()\n",
    "print(corpora)"
   ]
  },
  {
   "cell_type": "code",
   "execution_count": 4,
   "metadata": {},
   "outputs": [
    {
     "data": {
      "text/plain": [
       "{'nagisa': {'is_available': False, 'version': False},\n",
       " 'janome': {'is_available': True, 'version': '0.3.10'},\n",
       " 'mecab-python3': {'is_available': False, 'version': False},\n",
       " 'sudachipy': {'is_available': False, 'version': False},\n",
       " 'spacy': {'is_available': False, 'version': False},\n",
       " 'ginza': {'is_available': False, 'version': False},\n",
       " 'kytea': {'is_available': False, 'version': False},\n",
       " 'jumanpp': {'is_available': False, 'version': False},\n",
       " 'sentencepiece': {'is_available': False, 'version': False}}"
      ]
     },
     "execution_count": 4,
     "metadata": {},
     "output_type": "execute_result"
    }
   ],
   "source": [
    "# A list of available tokenizers in your execution environment\n",
    "# This is the only Janome available by default\n",
    "# Add each tokenizer by pip install it\n",
    "tokenizers.available_tokenizers()"
   ]
  },
  {
   "cell_type": "code",
   "execution_count": 5,
   "metadata": {},
   "outputs": [
    {
     "name": "stdout",
     "output_type": "stream",
     "text": [
      "livedoor_news_corpus (ldcc-20140209.tar.gz) exists in /home/taishi-i/toiro_resources .\n",
      "               0                                           1\n",
      "0    movie-enter         魅力満載なスマホ向け放送局「NOTTV（ノッティーヴィー）」はじまる！\n",
      "1   sports-watch                   錦織の敗戦に「立派」「力の差あった」など様々な反応\n",
      "2  kaden-channel  露出を理解してクリエイティブな写真を撮る！プロのテクに近づく露出を学ぶ【カメラ生活】\n",
      "3  kaden-channel  【ニュース】「OLYMPUS Viewer 2」のバージョンアッププログラム明日公開\n",
      "4    movie-enter      【DVDエンター！】十字架、ニンニク…ヴァンパイアに対抗する武器といえば何？\n"
     ]
    }
   ],
   "source": [
    "# Download the livedoor news corpus and load it as pandas.DataFrame\n",
    "livedoor_corpus = corpora[0]\n",
    "datadownloader.download_corpus(corpus=livedoor_corpus)\n",
    "train_df, dev_df, test_df = datadownloader.load_corpus(corpus=livedoor_corpus)\n",
    "print(train_df.head())"
   ]
  },
  {
   "cell_type": "code",
   "execution_count": 6,
   "metadata": {},
   "outputs": [
    {
     "name": "stderr",
     "output_type": "stream",
     "text": [
      "  1%|          | 47/5900 [00:00<00:12, 460.37it/s]"
     ]
    },
    {
     "name": "stdout",
     "output_type": "stream",
     "text": [
      "[1/1] Tokenizer: janome\n"
     ]
    },
    {
     "name": "stderr",
     "output_type": "stream",
     "text": [
      "100%|██████████| 5900/5900 [00:08<00:00, 677.29it/s]"
     ]
    },
    {
     "name": "stdout",
     "output_type": "stream",
     "text": [
      "{'execution_environment': {'python_version': '3.7.8.final.0 (64 bit)', 'arch': 'X86_64', 'brand_raw': 'Intel(R) Core(TM) i7-7700K CPU @ 4.20GHz', 'count': 8}, 'data': {'number_of_sentences': 5900, 'average_length': 37.69593220338983}, 'janome': {'elapsed_time': 8.711658239364624}}\n"
     ]
    },
    {
     "name": "stderr",
     "output_type": "stream",
     "text": [
      "\n"
     ]
    }
   ],
   "source": [
    "# Compare the processing speed of tokenizers\n",
    "texts = train_df[1]\n",
    "report = tokenizers.compare(texts)\n",
    "print(report)"
   ]
  },
  {
   "cell_type": "code",
   "execution_count": 7,
   "metadata": {},
   "outputs": [
    {
     "name": "stdout",
     "output_type": "stream",
     "text": [
      "       janome: 単語|分割|の|結果|を|比較|する|こと|が|でき|ます\n"
     ]
    }
   ],
   "source": [
    "# Compare the segmented words of tokenizers\n",
    "text = \"単語分割の結果を比較することができます\"\n",
    "tokenizers.print_words(text, delimiter=\"|\")"
   ]
  }
 ],
 "metadata": {
  "kernelspec": {
   "display_name": "Python 3",
   "language": "python",
   "name": "python3"
  },
  "language_info": {
   "codemirror_mode": {
    "name": "ipython",
    "version": 3
   },
   "file_extension": ".py",
   "mimetype": "text/x-python",
   "name": "python",
   "nbconvert_exporter": "python",
   "pygments_lexer": "ipython3",
   "version": "3.7.8"
  }
 },
 "nbformat": 4,
 "nbformat_minor": 4
}
