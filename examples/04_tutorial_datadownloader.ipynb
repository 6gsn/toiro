{
 "cells": [
  {
   "cell_type": "code",
   "execution_count": 1,
   "metadata": {},
   "outputs": [],
   "source": [
    "# Ignore warnings\n",
    "import warnings\n",
    "warnings.simplefilter('ignore')"
   ]
  },
  {
   "cell_type": "code",
   "execution_count": 2,
   "metadata": {},
   "outputs": [],
   "source": [
    "from toiro import tokenizers\n",
    "from toiro import datadownloader"
   ]
  },
  {
   "cell_type": "code",
   "execution_count": 3,
   "metadata": {},
   "outputs": [
    {
     "name": "stdout",
     "output_type": "stream",
     "text": [
      "['livedoor_news_corpus', 'yahoo_movie_reviews', 'amazon_reviews']\n"
     ]
    }
   ],
   "source": [
    "# A list of avaliable corpora in toiro\n",
    "corpora = datadownloader.available_corpus()\n",
    "print(corpora)"
   ]
  },
  {
   "cell_type": "code",
   "execution_count": 4,
   "metadata": {},
   "outputs": [
    {
     "name": "stdout",
     "output_type": "stream",
     "text": [
      "livedoor_news_corpus (ldcc-20140209.tar.gz) exists in /home/taishi-i/toiro_resources .\n",
      "               0                                           1\n",
      "0    movie-enter         魅力満載なスマホ向け放送局「NOTTV（ノッティーヴィー）」はじまる！\n",
      "1   sports-watch                   錦織の敗戦に「立派」「力の差あった」など様々な反応\n",
      "2  kaden-channel  露出を理解してクリエイティブな写真を撮る！プロのテクに近づく露出を学ぶ【カメラ生活】\n",
      "3  kaden-channel  【ニュース】「OLYMPUS Viewer 2」のバージョンアッププログラム明日公開\n",
      "4    movie-enter      【DVDエンター！】十字架、ニンニク…ヴァンパイアに対抗する武器といえば何？\n"
     ]
    }
   ],
   "source": [
    "# Download the livedoor news corpus and load it as pandas.DataFrame\n",
    "livedoor_corpus = corpora[0]\n",
    "datadownloader.download_corpus(corpus=livedoor_corpus)\n",
    "train_df, dev_df, test_df = datadownloader.load_corpus(corpus=livedoor_corpus)\n",
    "print(train_df.head())"
   ]
  },
  {
   "cell_type": "code",
   "execution_count": 5,
   "metadata": {},
   "outputs": [
    {
     "name": "stdout",
     "output_type": "stream",
     "text": [
      "yahoo_movie_reviews (yahoo-movie-reviews.json.tar.gz) exists in /home/taishi-i/toiro_resources .\n",
      "   0                                                  1\n",
      "0  0  笠原郁(榮倉奈々)は、高校時代に助けてくれた図書隊員の“王子様”に憧れて入隊する。顔を憶えて...\n",
      "1  0  原作を読んでいないので、映画を見た批評です。出会い系サイトでの出会い現代社会ではそういったネ...\n",
      "2  0                             CGは相当すごいが筋や演出は期待はずれかな。\n",
      "3  0  「ギャグを散りばめるのはいいけど、一本筋くらい通せよ。真面目なとこは真面目に、笑わせるとこは...\n",
      "4  0  一体、この映画に感動し涙を流した観客は、この映画の何処に感動したのだろうか？史実としての大東...\n"
     ]
    }
   ],
   "source": [
    "# Download the yahoo movie reviews and load it as pandas.DataFrame\n",
    "yahoo_movie_reviews_corpus = corpora[1]\n",
    "datadownloader.download_corpus(corpus=yahoo_movie_reviews_corpus)\n",
    "train_df, dev_df, test_df = datadownloader.load_corpus(corpus=yahoo_movie_reviews_corpus)\n",
    "print(train_df.head())"
   ]
  },
  {
   "cell_type": "code",
   "execution_count": 6,
   "metadata": {},
   "outputs": [
    {
     "name": "stdout",
     "output_type": "stream",
     "text": [
      "amazon_reviews (amazon_reviews_multilingual_JP_v1_00.tsv.gz) exists in /home/taishi-i/toiro_resources .\n",
      "   0                                                  1\n",
      "0  2  ほとんどが１、２の真相やその後について描かれていた気がする。<br />主役（？）のジェフっ...\n",
      "1  2  冷戦時の宇宙計画をうまく盛り込んでいるのになんだか消化不良な形で終わっています。<br />...\n",
      "2  5  何十年も前から気になっていた映画で、やっと観ることができました。こんなに悲しくて、こんなに感...\n",
      "3  4  色気たっぷりで、ちょっとポップで<br />あの有名曲がこんなアレンジで！と言う感じです。<...\n",
      "4  1  私はグロテスクな描写を否定するつもりはありません。   リアリティや説得力を増すために必要で...\n"
     ]
    }
   ],
   "source": [
    "# Download the amazon_reviews and load it as pandas.DataFrame\n",
    "amazon_reviews_corpus = corpora[2]\n",
    "datadownloader.download_corpus(corpus=amazon_reviews_corpus)\n",
    "train_df, dev_df, test_df = datadownloader.load_corpus(corpus=amazon_reviews_corpus)\n",
    "print(train_df.head())"
   ]
  }
 ],
 "metadata": {
  "kernelspec": {
   "display_name": "Python 3",
   "language": "python",
   "name": "python3"
  },
  "language_info": {
   "codemirror_mode": {
    "name": "ipython",
    "version": 3
   },
   "file_extension": ".py",
   "mimetype": "text/x-python",
   "name": "python",
   "nbconvert_exporter": "python",
   "pygments_lexer": "ipython3",
   "version": "3.7.8"
  }
 },
 "nbformat": 4,
 "nbformat_minor": 4
}
