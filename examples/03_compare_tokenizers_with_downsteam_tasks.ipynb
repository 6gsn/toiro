{
 "cells": [
  {
   "cell_type": "code",
   "execution_count": 1,
   "metadata": {},
   "outputs": [],
   "source": [
    "# Ignore warnings\n",
    "import warnings\n",
    "warnings.simplefilter('ignore')"
   ]
  },
  {
   "cell_type": "code",
   "execution_count": 2,
   "metadata": {},
   "outputs": [],
   "source": [
    "from toiro import classifiers\n",
    "from toiro import datadownloader"
   ]
  },
  {
   "cell_type": "code",
   "execution_count": 3,
   "metadata": {},
   "outputs": [
    {
     "name": "stdout",
     "output_type": "stream",
     "text": [
      "accuracy_score: 0.8480325644504749\n",
      "macro_f1_score: 0.8390328872036109\n",
      "classification_report:                 precision    recall  f1-score   support\n",
      "\n",
      "dokujo-tsushin       0.83      0.84      0.84        88\n",
      "  it-life-hack       0.88      0.91      0.90        92\n",
      " kaden-channel       0.96      0.94      0.95        86\n",
      "livedoor-homme       0.74      0.69      0.72        42\n",
      "   movie-enter       0.76      0.76      0.76        78\n",
      "        peachy       0.77      0.74      0.75        99\n",
      "          smax       0.95      0.98      0.96        92\n",
      "  sports-watch       0.88      0.87      0.87        82\n",
      "    topic-news       0.79      0.82      0.81        78\n",
      "\n",
      "      accuracy                           0.85       737\n",
      "     macro avg       0.84      0.84      0.84       737\n",
      "  weighted avg       0.85      0.85      0.85       737\n",
      "\n",
      "elapsed_time: 9.376733541488647\n"
     ]
    }
   ],
   "source": [
    "# Initialize a SVM model with the Janome tokenizer                              \n",
    "model = classifiers.SVMClassifitionModel(tokenizer='janome')\n",
    "\n",
    "corpus = 'livedoor_news_corpus'                                                 \n",
    "train_df, dev_df, test_df = datadownloader.load_corpus(corpus)                           \n",
    "                                                                                \n",
    "# Training a SVM model                                                          \n",
    "model.fit(train_df, dev_df)                                                     \n",
    "                                                                                \n",
    "# Evaluate the trained SVM model                                                \n",
    "result = model.eval(test_df)                                                    \n",
    "print(result)                             "
   ]
  },
  {
   "cell_type": "code",
   "execution_count": 4,
   "metadata": {},
   "outputs": [
    {
     "name": "stdout",
     "output_type": "stream",
     "text": [
      "accuracy_score: 0.8453188602442334\n",
      "macro_f1_score: 0.8349448817346935\n",
      "classification_report:                 precision    recall  f1-score   support\n",
      "\n",
      "dokujo-tsushin       0.85      0.83      0.84        88\n",
      "  it-life-hack       0.85      0.89      0.87        92\n",
      " kaden-channel       0.96      0.93      0.95        86\n",
      "livedoor-homme       0.70      0.67      0.68        42\n",
      "   movie-enter       0.77      0.77      0.77        78\n",
      "        peachy       0.78      0.73      0.75        99\n",
      "          smax       0.95      0.98      0.96        92\n",
      "  sports-watch       0.88      0.89      0.88        82\n",
      "    topic-news       0.78      0.83      0.81        78\n",
      "\n",
      "      accuracy                           0.85       737\n",
      "     macro avg       0.84      0.84      0.83       737\n",
      "  weighted avg       0.84      0.85      0.84       737\n",
      "\n",
      "elapsed_time: 0.5060250759124756\n"
     ]
    }
   ],
   "source": [
    "# The results of this comparison show that Janome and mecab-python3 have almost the same accuracy (0.848 vs 0.845), but their processing speed is different (8.85s vs 0.42s).\n",
    "\n",
    "# Initialize a SVM model with the mecab-python3 tokenizers                            \n",
    "model = classifiers.SVMClassifitionModel(tokenizer='mecab-python3')\n",
    "\n",
    "corpus = 'livedoor_news_corpus'                                                 \n",
    "train_df, dev_df, test_df = datadownloader.load_corpus(corpus)                           \n",
    "                                                                                \n",
    "# Training a SVM model                                                          \n",
    "model.fit(train_df, dev_df)                                                     \n",
    "                                                                                \n",
    "# Evaluate the trained SVM model                                                \n",
    "result = model.eval(test_df)                                                    \n",
    "print(result) "
   ]
  }
 ],
 "metadata": {
  "kernelspec": {
   "display_name": "Python 3",
   "language": "python",
   "name": "python3"
  },
  "language_info": {
   "codemirror_mode": {
    "name": "ipython",
    "version": 3
   },
   "file_extension": ".py",
   "mimetype": "text/x-python",
   "name": "python",
   "nbconvert_exporter": "python",
   "pygments_lexer": "ipython3",
   "version": "3.7.8"
  }
 },
 "nbformat": 4,
 "nbformat_minor": 4
}
